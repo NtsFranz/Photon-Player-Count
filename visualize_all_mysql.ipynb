{
 "cells": [
  {
   "cell_type": "code",
   "execution_count": null,
   "source": [
    "import pandas as pd\n",
    "from pymysql import converters\n",
    "import pymysql\n",
    "import matplotlib.pyplot as plt"
   ],
   "outputs": [],
   "metadata": {}
  },
  {
   "cell_type": "code",
   "execution_count": null,
   "source": [
    "from mysql_config import *\n",
    "def connectToDB():\n",
    "\n",
    "    conv=converters.conversions.copy()\n",
    "    conv[246]=float    # convert decimals to floats\n",
    "    conn = pymysql.connect(\n",
    "        host=MYSQL_DATABASE_HOST,\n",
    "        user=MYSQL_DATABASE_USER,\n",
    "        password=MYSQL_DATABASE_PASSWORD,\n",
    "        db=MYSQL_DATABASE_DB,\n",
    "        cursorclass=pymysql.cursors.DictCursor,\n",
    "        conv=conv\n",
    "    )\n",
    "    curr = conn.cursor()\n",
    "\n",
    "    return conn, curr"
   ],
   "outputs": [],
   "metadata": {}
  },
  {
   "cell_type": "code",
   "execution_count": null,
   "source": [
    "conn, curr = connectToDB()\n",
    "\n",
    "hours = .1\n",
    "\n",
    "subsample = hours\n",
    "\n",
    "hours += 74.5\n",
    "\n",
    "# fstring not safe, but ok since parsed float\n",
    "query = f\"\"\"\n",
    "SELECT `timestamp`, `player_count`\n",
    "FROM Monke\n",
    "WHERE `timestamp` > (NOW() - INTERVAL {hours} HOUR)\n",
    "-- AND player_count > 0 AND player_count < 10000\n",
    "AND UNIX_TIMESTAMP(`timestamp`) % {subsample} = 0\n",
    "ORDER BY timestamp DESC;\n",
    "\"\"\"\n",
    "curr.execute(query)\n",
    "recent_updates = [dict(row) for row in curr.fetchall()]\n",
    "conn.close()\n",
    "\n",
    "print(f'{len(recent_updates):,}')"
   ],
   "outputs": [],
   "metadata": {}
  },
  {
   "cell_type": "code",
   "execution_count": null,
   "source": [
    "df = pd.DataFrame(recent_updates)\n",
    "df.columns = ['timestamp', 'player_count']\n",
    "df['player_count'] = pd.to_numeric(df['player_count'], errors='coerce')\n",
    "df = df.astype({'player_count': 'int32'})\n",
    "df = df.dropna()\n",
    "\n",
    "length = 2\n",
    "df['player_count'] = df['player_count'].rolling(int(length + 1)).median().shift(int(-length/2))\n",
    "df['player_count'] = df['player_count'].rolling(int(length + 1)).mean().shift(int(-length/2))\n",
    "\n",
    "for i in range (0, 0):\n",
    "    df = df[df['player_count'] < df['player_count'].shift(-1) + 50]\n",
    "    df = df[df['player_count'] > df['player_count'].shift(-1) - 50]\n",
    "\n",
    "df.head()"
   ],
   "outputs": [],
   "metadata": {}
  },
  {
   "cell_type": "code",
   "execution_count": null,
   "source": [
    "# df['timestamp'] = pd.to_datetime(df['timestamp'])\n",
    "df.columns = ['Time', 'Player Count']\n",
    "\n",
    "params = {\"ytick.color\": \"w\",\n",
    "            \"xtick.color\": \"w\",\n",
    "            \"axes.labelcolor\": \"w\",\n",
    "            \"axes.edgecolor\": \"w\"}\n",
    "plt.rcParams.update(params)\n",
    "fig = plt.figure(figsize=(7, 3), dpi=200)\n",
    "ax = plt.axes()\n",
    "plt.margins(x=0)\n",
    "\n",
    "scatter = True\n",
    "if scatter:\n",
    "    plt.scatter(x=df['Time'], y=df['Player Count'], alpha=.1, s=.5, c='w')\n",
    "else:\n",
    "    df.plot(ax=ax, x='Time', y='Player Count', linewidth=3.0, c='w')\n",
    "    ax.get_legend().remove()\n",
    "\n",
    "ax.get_xaxis().set_visible(False)\n",
    "# ax.get_legend().remove()\n",
    "\n",
    "plt.savefig('graph.png', transparent=True, bbox_inches='tight')\n",
    "plt.draw()"
   ],
   "outputs": [],
   "metadata": {}
  }
 ],
 "metadata": {
  "kernelspec": {
   "name": "python3",
   "display_name": "Python 3.9.5 64-bit ('env': venv)"
  },
  "language_info": {
   "codemirror_mode": {
    "name": "ipython",
    "version": 3
   },
   "file_extension": ".py",
   "mimetype": "text/x-python",
   "name": "python",
   "nbconvert_exporter": "python",
   "pygments_lexer": "ipython3",
   "version": "3.9.5"
  },
  "interpreter": {
   "hash": "d56f99bb05e4209ef59451363bd09bc546bd987730681d836c06dc227ecea02e"
  }
 },
 "nbformat": 4,
 "nbformat_minor": 4
}